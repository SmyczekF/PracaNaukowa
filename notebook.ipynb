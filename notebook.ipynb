{
 "cells": [
  {
   "cell_type": "code",
   "execution_count": 721,
   "outputs": [],
   "source": [
    "import math\n",
    "import pandas as pd\n",
    "import itertools"
   ],
   "metadata": {
    "collapsed": false,
    "pycharm": {
     "name": "#%%\n"
    }
   }
  },
  {
   "cell_type": "code",
   "execution_count": 722,
   "metadata": {
    "collapsed": true
   },
   "outputs": [],
   "source": [
    "def euklides_measure(vec1, vec2):\n",
    "    result = 0\n",
    "    # ewentualnie mozna liczyc odleglosci euklidesowe dla wektorow o roznej odl\n",
    "    if len(vec1) != len(vec2):\n",
    "        return 0\n",
    "    for i in range(len(vec1)):\n",
    "        result = result + (vec1[i]-vec2[i])**2\n",
    "    result = math.sqrt(result)\n",
    "\n",
    "    #korekta, gdy odleglosc to 0, zapisujemy 0 w inny sposób\n",
    "    if result == 0:\n",
    "        result = 1e-21\n",
    "\n",
    "    return result"
   ]
  },
  {
   "cell_type": "code",
   "execution_count": 723,
   "outputs": [],
   "source": [
    "def get_csv(x):\n",
    "\n",
    "    df = pd.read_csv(x)\n",
    "    leng = len(df.columns)\n",
    "    return df, leng"
   ],
   "metadata": {
    "collapsed": false,
    "pycharm": {
     "name": "#%%\n"
    }
   }
  },
  {
   "cell_type": "code",
   "execution_count": 724,
   "outputs": [],
   "source": [
    "def write_to_sim_vec(sim_vec, index, emeasure, vec_of_vecs):\n",
    "    sim_vec[index] = emeasure\n",
    "    vec_of_vecs.append(sim_vec)\n",
    "\n",
    "    return vec_of_vecs\n"
   ],
   "metadata": {
    "collapsed": false,
    "pycharm": {
     "name": "#%%\n"
    }
   }
  },
  {
   "cell_type": "code",
   "execution_count": 725,
   "outputs": [],
   "source": [
    "def compare(test, which_line, agent, a_index, dec_atr):\n",
    "    test = test_file.iloc[which_line]\n",
    "\n",
    "    #zliczac do zmiennej liczbe wartosci atrybutu decyzyjnego -> podawana w zmiennej\n",
    "    vec_of_vecs = []\n",
    "\n",
    "    train_vec = [None] * (a_index - 1)\n",
    "    test_vec = [None] * (a_index - 1)\n",
    "\n",
    "    #tworzenie wektora odległości bezwzględnej\n",
    "    for index, row in agent.iterrows():\n",
    "        sim_vec = [0] * len(dec_atr)\n",
    "\n",
    "        for i in range (len(train_vec)):\n",
    "            train_vec[i] = row[agent.columns[i]]\n",
    "            test_vec[i] = test[agent.columns[i]]\n",
    "\n",
    "        emeasure = euklides_measure(train_vec,test_vec)\n",
    "\n",
    "        #w innej funkcji wybierac wszystkie odpowiadajace dla wybranego k\n",
    "\n",
    "        for atr in dec_atr:\n",
    "\n",
    "            if row[agent.columns[a_index-1]] == atr:\n",
    "                vec_of_vecs = write_to_sim_vec(sim_vec, dec_atr.index(atr), emeasure, vec_of_vecs)\n",
    "\n",
    "\n",
    "    return vec_of_vecs\n"
   ],
   "metadata": {
    "collapsed": false,
    "pycharm": {
     "name": "#%%\n"
    }
   }
  },
  {
   "cell_type": "code",
   "execution_count": 726,
   "outputs": [],
   "source": [
    "def find_dec_atr(files):\n",
    "    dec_atr = []\n",
    "    for file in files:\n",
    "        [agent, a_index] = get_csv(file)\n",
    "        for index, row in agent.iterrows():\n",
    "            dec = row[agent.columns[a_index-1]]\n",
    "            if dec not in dec_atr:\n",
    "                dec_atr.append(dec)\n",
    "\n",
    "    return dec_atr"
   ],
   "metadata": {
    "collapsed": false,
    "pycharm": {
     "name": "#%%\n"
    }
   }
  },
  {
   "cell_type": "code",
   "execution_count": 727,
   "outputs": [],
   "source": [
    "def make_vector(files, test_file, which_line, num_of_dec):\n",
    "    all_vecs = []\n",
    "    for file in files:\n",
    "        [agent, a_index] = get_csv(file)\n",
    "        all_vecs.append(compare(test_file, which_line, agent, a_index, num_of_dec))\n",
    "    return all_vecs\n",
    "\n"
   ],
   "metadata": {
    "collapsed": false,
    "pycharm": {
     "name": "#%%\n"
    }
   }
  },
  {
   "cell_type": "code",
   "execution_count": 728,
   "outputs": [],
   "source": [
    "def find_the_closest(k, list, dec_atr, agent_num):\n",
    "\n",
    "    final_vec = [[[0 for x in range(len(dec_atr))] for x in range(k)] for x in range(agent_num)]\n",
    "    ixs_to_delete = [[0 for x in range(len(dec_atr))] for x in range(agent_num)]\n",
    "\n",
    "    save = False\n",
    "\n",
    "    #[[[0,0,0..],[..],[..],..]],[[0,0,0..],[..],[..],..]],[[0,0,0..],[..],[..],..]],..]\n",
    "    for i in range(k):\n",
    "        for j in range(len(list)):\n",
    "            for l in range(len(list[j])):\n",
    "                for m in range(len(list[j][l])):\n",
    "                    if list[j][l][m] != 0:\n",
    "                        final_vec, save = try_val(final_vec, j, i, list[j][l], m)\n",
    "                        if save:\n",
    "                            ixs_to_delete[j][m] = l\n",
    "    # deletion:\n",
    "    # sorting the inner list to avoid moving important index down\n",
    "\n",
    "        for i in range(len(ixs_to_delete)):\n",
    "            for j in sorted(ixs_to_delete[i], reverse= True):\n",
    "                del list[i][j]\n",
    "\n",
    "    # jesli k-ty obiekt ma taka sama odl jak inne obiekty, to wszystkie obiekty sa brane pod uwage\n",
    "    # 0.1, 0.2, 0.2, 0.3 -> dla k = 2 bierzemy 3 pierwsze obiekty, bo mają tą samą wartość\n",
    "\n",
    "    return final_vec"
   ],
   "metadata": {
    "collapsed": false,
    "pycharm": {
     "name": "#%%\n"
    }
   }
  },
  {
   "cell_type": "code",
   "execution_count": 729,
   "outputs": [],
   "source": [
    "def try_val(final_vec, agent_in_final, k_in_final, vec, m):\n",
    "\n",
    "    fin = final_vec[agent_in_final][k_in_final]\n",
    "    save = False\n",
    "\n",
    "    for i in range(len(fin)):\n",
    "\n",
    "        if i == m:\n",
    "            if fin[m] == 0:\n",
    "                fin[m] = vec[m]\n",
    "                save = True\n",
    "\n",
    "            elif fin[m] > vec[m]:\n",
    "                fin[m] = vec[m]\n",
    "                save = True\n",
    "\n",
    "    return final_vec, save\n"
   ],
   "metadata": {
    "collapsed": false,
    "pycharm": {
     "name": "#%%\n"
    }
   }
  },
  {
   "cell_type": "code",
   "execution_count": 730,
   "outputs": [],
   "source": [
    "def change_to_relative(k_closest):\n",
    "    for k in k_closest:\n",
    "        for l in k:\n",
    "            sum = 0\n",
    "            #zliczamy sume\n",
    "            for m in l:\n",
    "                sum += m\n",
    "            #obliczamy wartosci wzgledem sumy i odejmujemy\n",
    "            # od 1 aby nie byly najmniejsze, tylko najwieksze, aby utworzyc podobienstwo\n",
    "            for i in range(len(l)):\n",
    "                l[i] = 1 - l[i]/sum\n",
    "            #podobniestwo wzgledne (udzial procentowy)\n",
    "            sum = 0\n",
    "            for m in l:\n",
    "                sum += m\n",
    "            for i in range(len(l)):\n",
    "                l[i] = l[i]/sum\n",
    "\n",
    "    # to na koncu (normalizacja)\n",
    "\n",
    "    return k_closest"
   ],
   "metadata": {
    "collapsed": false,
    "pycharm": {
     "name": "#%%\n"
    }
   }
  },
  {
   "cell_type": "code",
   "execution_count": 731,
   "outputs": [],
   "source": [
    "def unify_k_vecs(relative_vecs, agent_num):\n",
    "    unified_vec = [[0 for x in range(len(relative_vecs[0][0]))]for x in range(agent_num)]\n",
    "    for i in range(len(relative_vecs)):\n",
    "        for j in range(len(relative_vecs[i])):\n",
    "\n",
    "            for k in range(len(relative_vecs[i][j])):\n",
    "                unified_vec[i][k] += relative_vecs[i][j][k]\n",
    "\n",
    "        for k in range(len(relative_vecs[i][j])):\n",
    "            unified_vec[i][k] /= len(relative_vecs[i])\n",
    "\n",
    "    # tu nie normalizować, tylko raz na końcu\n",
    "\n",
    "    return unified_vec\n"
   ],
   "metadata": {
    "collapsed": false,
    "pycharm": {
     "name": "#%%\n"
    }
   }
  },
  {
   "cell_type": "code",
   "execution_count": 732,
   "outputs": [],
   "source": [
    "def sub_lists (l):\n",
    "    lists = [[]]\n",
    "    for i in range(len(l) + 1):\n",
    "        for j in range(i):\n",
    "            lists.append(l[j: i])\n",
    "    return lists"
   ],
   "metadata": {
    "collapsed": false,
    "pycharm": {
     "name": "#%%\n"
    }
   }
  },
  {
   "cell_type": "code",
   "execution_count": 733,
   "outputs": [],
   "source": [
    "#q od 0 do 1 - wartosc procentowa, po osiagnieciu ktorej decyzja jest przelosowana\n",
    "def Shapley_Shubik(vec, q, dec_atr):\n",
    "\n",
    "    force_list = [0 for x in range(len(vec))]\n",
    "\n",
    "    #na początku szukamy list dla poszczególnych decyzji, zapisujemy ją (listę) jako temp_vec\n",
    "    for i in range(len(dec_atr)):\n",
    "\n",
    "        #temp_vec jest pomocniczy, aby obliczyc ostateczną siłę agenta: [dec1a1, dec1a2, dec1a3..]\n",
    "        temp_vec = [0 for x in range(len(vec))]\n",
    "\n",
    "        #uzupelnienie wektora\n",
    "        for m in range(len(vec)):\n",
    "            temp_vec[m] = vec[m][i]\n",
    "\n",
    "        #wyciągamy pierszy element tabeli i później odkładamy go na górę (koniec)\n",
    "        agent_sums = []\n",
    "        for l in range(len(temp_vec)):\n",
    "\n",
    "            # print(\"temp_vec: \",temp_vec)\n",
    "            x = temp_vec.pop(i)\n",
    "            subsets = sub_lists(temp_vec)\n",
    "            sum_to_Shapley = 0\n",
    "            #sprawdzamy gdzie x ma decydujace znaczenie\n",
    "            for subs in subsets:\n",
    "                sum = 0\n",
    "                point = False\n",
    "                #sprawdzamy, czy x jest samo większe lub równe wymaganej liczbie\n",
    "                if len(subs) == 0:\n",
    "                    if x >= q:\n",
    "                        point = True\n",
    "                #sprawdzamy czy x w połączeniu z innymi wartościami jest decydujące\n",
    "                else:\n",
    "                    for j in range(len(subs)):\n",
    "                        sum += subs[j]\n",
    "                        if j == len(subs) - 1:\n",
    "                            if sum >= q:\n",
    "                                pass\n",
    "                            elif sum + x >= q:\n",
    "                                point = True\n",
    "                #jeżeli x jest decydujące, dodajemy do sum_to_Shapley\n",
    "                if point:\n",
    "                    sum_to_Shapley += 1\n",
    "\n",
    "            temp_vec.append(x)\n",
    "\n",
    "            print(\"agent nr \",l+1, \" ma sile \",sum_to_Shapley/len(subsets))\n",
    "\n",
    "            agent_sums.append(sum_to_Shapley/len(subsets))\n",
    "        print(agent_sums)\n",
    "        #po sprawdzeniu, dodajemy ten element na koniec, teraz 1 jest 2 itd\n",
    "        #aby potem sprawdzić następny numer a nie znow ten sam\n",
    "\n",
    "    return force_list\n",
    "\n",
    "    # algorytm poprawić bo musi być po agentach a nie po decyzjach!!!\n"
   ],
   "metadata": {
    "collapsed": false,
    "pycharm": {
     "name": "#%%\n"
    }
   }
  },
  {
   "cell_type": "code",
   "execution_count": 734,
   "outputs": [],
   "source": [
    "def count_final_vec(unified_vec, f_list):\n",
    "\n",
    "    help_vec = [[0 for x in range(len(unified_vec[0]))]for x in range(len(unified_vec))]\n",
    "    final_vec = [0 for x in range(len(unified_vec[0]))]\n",
    "\n",
    "    for i in range(len(unified_vec)):\n",
    "        for j in range(len(unified_vec[i])):\n",
    "            help_vec[i][j] = unified_vec[i][j] * f_list[i][j]\n",
    "\n",
    "    for i in range(len(help_vec)):\n",
    "        for j in range(len(help_vec[i])):\n",
    "            final_vec[j] += help_vec[i][j]\n",
    "\n",
    "    return final_vec"
   ],
   "metadata": {
    "collapsed": false,
    "pycharm": {
     "name": "#%%\n"
    }
   }
  },
  {
   "cell_type": "code",
   "execution_count": 735,
   "outputs": [
    {
     "name": "stdout",
     "output_type": "stream",
     "text": [
      "k_closest:  [[[12.165525060596439, 3.1622776601683795, 36.796738985948195, 1.4142135623730951], [12.206555615733702, 3.605551275463989, 38.535697735995385, 3.0], [13.45362404707371, 4.47213595499958, 39.68626966596886, 4.0]], [[13.0, 2.449489742783178, 37.603191353926334, 1e-21], [13.038404810405298, 3.0, 39.06404996924922, 2.449489742783178], [14.66287829861518, 3.7416573867739413, 39.408120990476064, 3.0]], [[5.196152422706632, 2.23606797749979, 45.16635916254486, 1.7320508075688772], [7.280109889280518, 2.449489742783178, 45.17742799230607, 1.7320508075688772], [10.099504938362077, 2.8284271247461903, 46.10856753359401, 2.23606797749979]], [[13.638181696985855, 9.38083151964686, 250.28983199482954, 3.0], [16.0312195418814, 10.677078252031311, 252.48168250389966, 4.242640687119285], [31.416556144810016, 11.045361017187261, 258.53046242174247, 5.0]], [[20.273134932713294, 12.96148139681572, 252.69942619642015, 6.082762530298219], [31.464265445104548, 16.792855623746664, 257.3266406729004, 6.48074069840786], [36.72873534441391, 18.466185312619388, 262.77366686941826, 6.855654600401044]], [[4.242640687119285, 2.0, 2.0, 3.0], [5.916079783099616, 2.449489742783178, 3.7416573867739413, 3.1622776601683795], [6.0, 3.3166247903554, 4.47213595499958, 3.4641016151377544]], [[3.0, 2.0, 1e-21, 1.0], [3.1622776601683795, 2.23606797749979, 1.4142135623730951, 1.4142135623730951], [3.1622776601683795, 2.23606797749979, 2.0, 2.23606797749979]]]\n",
      "relative_vecs:  [[[0.25759053730048803, 0.3136449310144601, 0.10423611954239154, 0.3245284121426603], [0.262382895067003, 0.3123761156513722, 0.10934511508906948, 0.3158958741925553], [0.26054655170664914, 0.3091381884398502, 0.11862272200308131, 0.3116925378504192]], [[0.251653515390973, 0.3179430351608557, 0.09707011611483791, 0.3333333333333333], [0.2578165984451256, 0.3159577258139361, 0.10707946653873486, 0.31914620920220343], [0.2529614770996925, 0.312824130198657, 0.11732500466954039, 0.31688938803211003]], [[0.3014535116606758, 0.3196144423979706, 0.056225319832239475, 0.32270672610911416], [0.29048829835729767, 0.318917551799937, 0.06745431338780032, 0.32313983645496497], [0.2783902849284529, 0.3179462020459051, 0.08249477507338669, 0.3211687379522553]], [[0.3168805101811002, 0.32201649026416124, 0.03138880479525252, 0.32971419475948605], [0.3144796818773921, 0.32077646506727847, 0.036400113218533946, 0.3283437398367955], [0.2991096530055772, 0.32130105001066483, 0.051702722386488466, 0.3278865745972696]], [[0.3101918170670482, 0.31853797318922666, 0.04488026965006808, 0.32638994009365707], [0.2997246133421428, 0.3153959566132039, 0.05846853384395586, 0.32641089620069746], [0.29564245256252525, 0.3143834080940631, 0.0636760512404551, 0.3262980881029566]], [[0.20754317408779574, 0.2740352835939631, 0.2740352835939631, 0.244386258724278], [0.20418529287391188, 0.27986096446677355, 0.2516529406934633, 0.2643008019658513], [0.21741053987386702, 0.2692545982408475, 0.24692958456098843, 0.2664052773242971]], [[0.16666666666666663, 0.2222222222222222, 0.33333333333333326, 0.27777777777777773], [0.20520380018209686, 0.2427320715718275, 0.2760320641230378, 0.2760320641230378], [0.2239242301441214, 0.25596941454470284, 0.2641369407664729, 0.25596941454470284]]]\n",
      "unified_vec:  [[0.2601733280247134, 0.3117197450352275, 0.11073465221151411, 0.31737227472854496], [0.2541438636452637, 0.3155749637244829, 0.10715819577437107, 0.32312297685588226], [0.2901106983154755, 0.31882606541460423, 0.0687248027644755, 0.32233843350544483], [0.31015661502135655, 0.32136466844736816, 0.03983054680009165, 0.32864816973118377], [0.3018529609905721, 0.31610577929883127, 0.05567495157815968, 0.326366308132437], [0.20971300227852488, 0.2743836154338614, 0.25753926961613827, 0.25836411267147547], [0.19859823233096163, 0.24030790277958416, 0.2911674460742813, 0.2699264188151728]]\n",
      "agent nr  1  ma sile  0.22727272727272727\n",
      "agent nr  2  ma sile  0.2727272727272727\n",
      "agent nr  3  ma sile  0.2727272727272727\n",
      "agent nr  4  ma sile  0.36363636363636365\n",
      "agent nr  5  ma sile  0.36363636363636365\n",
      "agent nr  6  ma sile  0.13636363636363635\n",
      "agent nr  7  ma sile  0.09090909090909091\n",
      "[0.22727272727272727, 0.2727272727272727, 0.2727272727272727, 0.36363636363636365, 0.36363636363636365, 0.13636363636363635, 0.09090909090909091]\n",
      "agent nr  1  ma sile  0.2727272727272727\n",
      "agent nr  2  ma sile  0.2727272727272727\n",
      "agent nr  3  ma sile  0.2727272727272727\n",
      "agent nr  4  ma sile  0.2727272727272727\n",
      "agent nr  5  ma sile  0.2727272727272727\n",
      "agent nr  6  ma sile  0.2727272727272727\n",
      "agent nr  7  ma sile  0.2727272727272727\n",
      "[0.2727272727272727, 0.2727272727272727, 0.2727272727272727, 0.2727272727272727, 0.2727272727272727, 0.2727272727272727, 0.2727272727272727]\n",
      "agent nr  1  ma sile  0.045454545454545456\n",
      "agent nr  2  ma sile  0.0\n",
      "agent nr  3  ma sile  0.045454545454545456\n",
      "agent nr  4  ma sile  0.2727272727272727\n",
      "agent nr  5  ma sile  0.45454545454545453\n",
      "agent nr  6  ma sile  0.045454545454545456\n",
      "agent nr  7  ma sile  0.0\n",
      "[0.045454545454545456, 0.0, 0.045454545454545456, 0.2727272727272727, 0.45454545454545453, 0.045454545454545456, 0.0]\n",
      "agent nr  1  ma sile  0.2727272727272727\n",
      "agent nr  2  ma sile  0.2727272727272727\n",
      "agent nr  3  ma sile  0.2727272727272727\n",
      "agent nr  4  ma sile  0.2727272727272727\n",
      "agent nr  5  ma sile  0.2727272727272727\n",
      "agent nr  6  ma sile  0.2727272727272727\n",
      "agent nr  7  ma sile  0.2727272727272727\n",
      "[0.2727272727272727, 0.2727272727272727, 0.2727272727272727, 0.2727272727272727, 0.2727272727272727, 0.2727272727272727, 0.2727272727272727]\n",
      "f_list:  [0, 0, 0, 0, 0, 0, 0]\n",
      "decyzja agentow:  saab\n",
      "decyzja poprawna:  saab\n",
      "Czy dobra decyzja?:  True\n",
      "\n"
     ]
    }
   ],
   "source": [
    "files = ['d1.csv', 'd2.csv', 'd3.csv', 'd4.csv', 'd5.csv', 'd6.csv', 'd7.csv']\n",
    "test_file, t_index = get_csv('test_w.csv')\n",
    "dec_atr = find_dec_atr(files)\n",
    "ageent_num = len(files)\n",
    "\n",
    "# for i in range(len(test_file)):\n",
    "\n",
    "line_to_compare = 0\n",
    "\n",
    "list = make_vector(files, test_file, line_to_compare, dec_atr)\n",
    "\n",
    "k_closest = find_the_closest(3, list, dec_atr, ageent_num)\n",
    "\n",
    "print(\"k_closest: \", k_closest)\n",
    "\n",
    "relative_vecs = change_to_relative(k_closest)\n",
    "\n",
    "print(\"relative_vecs: \",relative_vecs)\n",
    "\n",
    "unified_vec = unify_k_vecs(relative_vecs, ageent_num)\n",
    "\n",
    "print(\"unified_vec: \",unified_vec)\n",
    "\n",
    "f_list = Shapley_Shubik(unified_vec, 0.5, dec_atr)\n",
    "\n",
    "print(\"f_list: \",f_list)\n",
    "\n",
    "# final_vec = count_final_vec(unified_vec,f_list)\n",
    "#\n",
    "# print(\"final_vec: \",final_vec)\n",
    "\n",
    "print('decyzja agentow: ', dec_atr[final_vec.index(max(final_vec))])\n",
    "print('decyzja poprawna: ', test_file.iloc[line_to_compare][t_index - 1])\n",
    "print('Czy dobra decyzja?: ', dec_atr[final_vec.index(max(final_vec))] == test_file.iloc[line_to_compare][t_index - 1], end='\\n\\n')\n",
    "\n",
    "    # 160/94  -> T/F\n",
    "    # do poprawy unifikacja agentów -> nie robić jej\n",
    "    # do dodania składowanie wyników w jakimś słowniku..\n",
    "    # siła ma być wartością a nie wektorem (dodać wartości sił)"
   ],
   "metadata": {
    "collapsed": false,
    "pycharm": {
     "name": "#%%\n"
    }
   }
  }
 ],
 "metadata": {
  "kernelspec": {
   "display_name": "Python 3",
   "language": "python",
   "name": "python3"
  },
  "language_info": {
   "codemirror_mode": {
    "name": "ipython",
    "version": 2
   },
   "file_extension": ".py",
   "mimetype": "text/x-python",
   "name": "python",
   "nbconvert_exporter": "python",
   "pygments_lexer": "ipython2",
   "version": "2.7.6"
  }
 },
 "nbformat": 4,
 "nbformat_minor": 0
}