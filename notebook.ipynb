{
 "cells": [
  {
   "cell_type": "code",
   "execution_count": 33,
   "outputs": [],
   "source": [
    "import math\n",
    "import pandas as pd\n",
    "from itertools import chain, combinations\n",
    "from numpy import linspace"
   ],
   "metadata": {
    "collapsed": false,
    "pycharm": {
     "name": "#%%\n"
    }
   }
  },
  {
   "cell_type": "code",
   "execution_count": 34,
   "metadata": {
    "collapsed": true
   },
   "outputs": [],
   "source": [
    "def euklides_measure(vec1, vec2):\n",
    "    result = 0\n",
    "    if len(vec1) != len(vec2):\n",
    "        return 0\n",
    "    for i in range(len(vec1)):\n",
    "        result = result + (vec1[i]-vec2[i])**2\n",
    "    result = math.sqrt(result)\n",
    "\n",
    "    return result"
   ]
  },
  {
   "cell_type": "code",
   "execution_count": 35,
   "outputs": [],
   "source": [
    "def get_csv(x):\n",
    "\n",
    "    df = pd.read_csv(x)\n",
    "    leng = len(df.columns)\n",
    "    return df, leng"
   ],
   "metadata": {
    "collapsed": false,
    "pycharm": {
     "name": "#%%\n"
    }
   }
  },
  {
   "cell_type": "code",
   "execution_count": 36,
   "outputs": [],
   "source": [
    "def write_to_sim_vec(sim_vec, ix, emeasure, vec_of_vecs):\n",
    "    sim_vec[ix] = emeasure\n",
    "    vec_of_vecs.append(sim_vec)\n",
    "\n",
    "    return vec_of_vecs\n"
   ],
   "metadata": {
    "collapsed": false,
    "pycharm": {
     "name": "#%%\n"
    }
   }
  },
  {
   "cell_type": "code",
   "execution_count": 37,
   "outputs": [],
   "source": [
    "def compare(test, which_line, agent, a_index, dec_atr):\n",
    "    test = test_file.iloc[which_line]\n",
    "\n",
    "    #zliczac do zmiennej liczbe wartosci atrybutu decyzyjnego -> podawana w zmiennej\n",
    "    vec_of_vecs = []\n",
    "\n",
    "    train_vec = [None] * (a_index - 1)\n",
    "    test_vec = [None] * (a_index - 1)\n",
    "\n",
    "    #tworzenie wektora odległości bezwzględnej\n",
    "    for index, row in agent.iterrows():\n",
    "        sim_vec = [-1 for x in range(len(dec_atr))]\n",
    "\n",
    "        for i in range (len(train_vec)):\n",
    "            train_vec[i] = row[agent.columns[i]]\n",
    "            test_vec[i] = test[agent.columns[i]]\n",
    "\n",
    "        emeasure = euklides_measure(train_vec,test_vec)\n",
    "\n",
    "\n",
    "        for atr in dec_atr:\n",
    "\n",
    "            if row[agent.columns[a_index-1]] == atr:\n",
    "                vec_of_vecs = write_to_sim_vec(sim_vec, dec_atr.index(atr), emeasure, vec_of_vecs)\n",
    "\n",
    "\n",
    "    return vec_of_vecs\n"
   ],
   "metadata": {
    "collapsed": false,
    "pycharm": {
     "name": "#%%\n"
    }
   }
  },
  {
   "cell_type": "code",
   "execution_count": 38,
   "outputs": [],
   "source": [
    "def find_dec_atr(files):\n",
    "    dec_atr = []\n",
    "    for file in files:\n",
    "        [agent, a_index] = get_csv(file)\n",
    "        for index, row in agent.iterrows():\n",
    "            dec = row[agent.columns[a_index-1]]\n",
    "            if dec not in dec_atr:\n",
    "                dec_atr.append(dec)\n",
    "\n",
    "    return dec_atr"
   ],
   "metadata": {
    "collapsed": false,
    "pycharm": {
     "name": "#%%\n"
    }
   }
  },
  {
   "cell_type": "code",
   "execution_count": 39,
   "outputs": [],
   "source": [
    "def make_vector(files, test_file, which_line, num_of_dec):\n",
    "    all_vecs = []\n",
    "    for file in files:\n",
    "        [agent, a_index] = get_csv(file)\n",
    "        all_vecs.append(compare(test_file, which_line, agent, a_index, num_of_dec))\n",
    "    return all_vecs\n",
    "\n"
   ],
   "metadata": {
    "collapsed": false,
    "pycharm": {
     "name": "#%%\n"
    }
   }
  },
  {
   "cell_type": "code",
   "execution_count": 40,
   "outputs": [],
   "source": [
    "def find_the_closest(k, list_v, dec_atr, agent_num):\n",
    "\n",
    "    final_vec = [[[0 for x in range(len(dec_atr))] for x in range(k)] for x in range(agent_num)]\n",
    "    ixs_to_delete = [[0 for x in range(len(dec_atr))] for x in range(agent_num)]\n",
    "\n",
    "    save = False\n",
    "\n",
    "    for i in range(k):\n",
    "        for j in range(len(list_v)):\n",
    "            for l in range(len(list_v[j])):\n",
    "                for m in range(len(list_v[j][l])):\n",
    "                    if list_v[j][l][m] != -1:\n",
    "                        final_vec, save = try_val(final_vec, j, i, list_v[j][l], m)\n",
    "                        if save:\n",
    "                            ixs_to_delete[j][m] = l\n",
    "    # deletion:\n",
    "    # sorting the inner list to avoid moving important index down\n",
    "\n",
    "        for i in range(len(ixs_to_delete)):\n",
    "            for j in sorted(ixs_to_delete[i], reverse= True):\n",
    "                del list_v[i][j]\n",
    "\n",
    "    correction_vec = [[0 for x in range(len(dec_atr))]for x in range(agent_num)]\n",
    "    for i in range(agent_num):\n",
    "        for m in range(len(list_v[i])):\n",
    "            for j in range(len(dec_atr)):\n",
    "                if final_vec[i][k-1][j] == list_v[i][m][j]:\n",
    "                    correction_vec[i][j] += 1\n",
    "\n",
    "    return final_vec, correction_vec"
   ],
   "metadata": {
    "collapsed": false,
    "pycharm": {
     "name": "#%%\n"
    }
   }
  },
  {
   "cell_type": "code",
   "execution_count": 41,
   "outputs": [],
   "source": [
    "def try_val(final_vec, agent_in_final, k_in_final, vec, m):\n",
    "\n",
    "    fin = final_vec[agent_in_final][k_in_final]\n",
    "    save = False\n",
    "\n",
    "    for i in range(len(fin)):\n",
    "\n",
    "        if i == m:\n",
    "            if fin[m] == 0:\n",
    "                fin[m] = vec[m]\n",
    "                save = True\n",
    "\n",
    "            elif fin[m] > vec[m]:\n",
    "                fin[m] = vec[m]\n",
    "                save = True\n",
    "\n",
    "    return final_vec, save\n"
   ],
   "metadata": {
    "collapsed": false,
    "pycharm": {
     "name": "#%%\n"
    }
   }
  },
  {
   "cell_type": "code",
   "execution_count": 43,
   "outputs": [],
   "source": [
    "def unify_k_vecs_new(vec, agent_num, dec_num, correction):\n",
    "    result_vec = [[0 for x in range(dec_num)] for x in range(agent_num)]\n",
    "    for agent in range(len(vec)):\n",
    "        for k in range(len(vec[agent])):\n",
    "            for dec in range(len(vec[agent][k])):\n",
    "                result_vec[agent][dec] += vec[agent][k][dec]\n",
    "\n",
    "                if k == len(vec[agent])-1 and correction[agent][dec] != 0:\n",
    "                    for additional in range(correction[agent][dec]):\n",
    "                        result_vec[agent][dec] += vec[agent][k][dec]\n",
    "\n",
    "\n",
    "    #dzielenie przez liczbe k\n",
    "    for i in range(len(result_vec)):\n",
    "        for j in range(len(result_vec[i])):\n",
    "            result_vec[i][j] /= (len(vec[i]) + correction[i][j])\n",
    "\n",
    "    return result_vec"
   ],
   "metadata": {
    "collapsed": false,
    "pycharm": {
     "name": "#%%\n"
    }
   }
  },
  {
   "cell_type": "code",
   "execution_count": 44,
   "outputs": [],
   "source": [
    "def change_to_relative_new(vec):\n",
    "    for i in range(len(vec)):\n",
    "        sum = 0\n",
    "        for j in range(len(vec[i])):\n",
    "            sum += vec[i][j]\n",
    "        for j in range(len(vec[i])):\n",
    "            vec[i][j] = 1 - vec[i][j]/sum\n",
    "        sum = 0\n",
    "        for j in range(len(vec[i])):\n",
    "            sum += vec[i][j]\n",
    "        for j in range(len(vec[i])):\n",
    "            vec[i][j] = vec[i][j]/sum\n",
    "\n",
    "    return vec\n"
   ],
   "metadata": {
    "collapsed": false,
    "pycharm": {
     "name": "#%%\n"
    }
   }
  },
  {
   "cell_type": "code",
   "execution_count": 46,
   "outputs": [],
   "source": [
    "def powerset(iterable):\n",
    "    \"powerset([1,2,3]) --> () (1,) (2,) (3,) (1,2) (1,3) (2,3) (1,2,3)\"\n",
    "    s = list(iterable)\n",
    "    return chain.from_iterable(combinations(s, r) for r in range(len(s)+1))"
   ],
   "metadata": {
    "collapsed": false,
    "pycharm": {
     "name": "#%%\n"
    }
   }
  },
  {
   "cell_type": "code",
   "execution_count": 47,
   "outputs": [],
   "source": [
    "#q od 0 do 1 - wartosc procentowa, po osiagnieciu ktorej decyzja jest przelosowana\n",
    "def Shapley_Shubik(vec, q, dec_atr):\n",
    "\n",
    "    sums = [0 for x in range(len(dec_atr))]\n",
    "    #na początku szukamy list dla poszczególnych decyzji, zapisujemy ją (listę) jako temp_vec\n",
    "    for i in range(len(dec_atr)):\n",
    "\n",
    "        #temp_vec jest pomocniczy, aby obliczyc ostateczną siłę agenta: [dec1a1, dec1a2, dec1a3..]\n",
    "        temp_vec = [0 for x in range(len(vec))]\n",
    "\n",
    "        #uzupelnienie wektora\n",
    "        for m in range(len(vec)):\n",
    "            temp_vec[m] = vec[m][i]\n",
    "\n",
    "        #wyciągamy pierszy element tabeli i później odkładamy go na górę (koniec)\n",
    "        agent_forces = []\n",
    "        for l in range(len(temp_vec)):\n",
    "\n",
    "            x = temp_vec.pop(0)\n",
    "            forces= []\n",
    "\n",
    "            subsets = list(powerset(temp_vec))\n",
    "            sum_to_Shapley = 0\n",
    "            div = 0\n",
    "\n",
    "            #liczenie wartości sił agentów dla poszczególnych decyzji\n",
    "            for sub in subsets:\n",
    "                if sub:\n",
    "                    sum = 0\n",
    "                    for s in sub:\n",
    "                        sum += s\n",
    "                    if sum >= q:\n",
    "                        pass\n",
    "                    elif sum + x >= q:\n",
    "                        sum_to_Shapley += (math.factorial(len(sub)) * math.factorial((len(temp_vec)+1)-len(sub)-1))\n",
    "\n",
    "                else:\n",
    "                    if x > q:\n",
    "                        sum_to_Shapley += (math.factorial(len(sub)) * math.factorial((len(temp_vec)+1)-len(sub)-1))\n",
    "\n",
    "            temp_vec.append(x)\n",
    "            agent_forces.append(sum_to_Shapley/math.factorial(len(temp_vec)))\n",
    "        sums[i] = agent_forces\n",
    "\n",
    "            # liczenie sumy wartości sił jako siły agenta\n",
    "    final_indexes = [0 for x in range(len(vec))]\n",
    "    for i in range(len(sums)):\n",
    "        for j in range(len(sums[i])):\n",
    "            final_indexes[j] += sums[i][j]\n",
    "\n",
    "            # mnozenie wektorow przez siłę\n",
    "    for i in range(len(vec)):\n",
    "        for j in range(len(vec[i])):\n",
    "            vec[i][j] *= final_indexes[i]\n",
    "\n",
    "            # sumowanie przemnozonych wektorów\n",
    "    final_vec = [0 for x in range(len(dec_atr))]\n",
    "\n",
    "    for i in range(len(dec_atr)):\n",
    "        for j in range(len(vec)):\n",
    "            final_vec[i] += vec[j][i]\n",
    "\n",
    "            #wybieranie decyzji\n",
    "    max_val = max(final_vec)\n",
    "    decision = [dec_atr[i] for i,j in enumerate(final_vec) if j==max_val]\n",
    "    return decision\n"
   ],
   "metadata": {
    "collapsed": false,
    "pycharm": {
     "name": "#%%\n"
    }
   }
  },
  {
   "cell_type": "code",
   "execution_count": 48,
   "outputs": [
    {
     "name": "stdout",
     "output_type": "stream",
     "text": [
      "Dokładnosc wynosi:  0.7283464566929134\n",
      "Srednia ilosc podejmowanych decyzji:  1.0\n"
     ]
    }
   ],
   "source": [
    "files = ['d1.csv', 'd2.csv', 'd3.csv', 'd4.csv', 'd5.csv', 'd6.csv', 'd7.csv']\n",
    "test_file, t_index = get_csv('test_w.csv')\n",
    "dec_atr = find_dec_atr(files)\n",
    "ageent_num = len(files)\n",
    "\n",
    "#parametry testu\n",
    "space = list(linspace(0.1,0.9,10))\n",
    "zgadza = 0\n",
    "length = 0\n",
    "\n",
    "for i in range(len(test_file)):\n",
    "    line_to_compare = i\n",
    "\n",
    "    list_v = make_vector(files, test_file, line_to_compare, dec_atr)\n",
    "\n",
    "    k_closest, correction = find_the_closest(3, list_v, dec_atr, ageent_num)\n",
    "\n",
    "    # print(\"k_closest: \", k_closest)\n",
    "    # print(\"correction \", correction)\n",
    "\n",
    "    result = unify_k_vecs_new(k_closest, ageent_num, len(dec_atr), correction)\n",
    "\n",
    "    # print(result)\n",
    "\n",
    "    relative = change_to_relative_new(result)\n",
    "\n",
    "    # print(relative)\n",
    "\n",
    "    f_list = Shapley_Shubik(relative, 0.6, dec_atr)\n",
    "\n",
    "    # print(test_file.iloc[line_to_compare][t_index - 1], \" <- poprawna | odgadnieta -> \", f_list)\n",
    "\n",
    "    if test_file.iloc[line_to_compare][t_index - 1] in f_list and len(f_list) == 1:\n",
    "        zgadza += 1\n",
    "\n",
    "    length += len(f_list)\n",
    "\n",
    "print(\"Dokładnosc wynosi: \", zgadza/len(test_file))\n",
    "print(\"Srednia ilosc podejmowanych decyzji: \", length/len(test_file))\n",
    "\n",
    "    # Dla k = 3 i q = 0.6\n",
    "    # Skuteczność: 0.7283464566929134\n",
    "    # Srednia ilosc podejmowanych decyzji:  1.0\n",
    "\n",
    "    #Poprawione:\n",
    "    # Gdy odległość jest równa, bierzemy wszystkie równe wartości (uwzględnione oczywiście również przy jednoczeniu wektoró)\n",
    "    # Podjęte decyzje to lista, w wypadku niejednoznacznej decyzji (wszystkie wartości max wchodzą).\n",
    "    # Naprawiona miara Euklidesowa! Dawniej - gdy 0 to przydzielałem 1e-21, teraz zostaje 0, co DIAMETRALNIE wpływa na wyniki!\n",
    "    # Drobne zmiany optymalizacyjne - czas skrócony do 1.8(3) sekundy [z 2,5s]\n",
    "\n",
    "    # Do dodania:\n",
    "    # Indeks Banzhafa"
   ],
   "metadata": {
    "collapsed": false,
    "pycharm": {
     "name": "#%%\n"
    }
   }
  }
 ],
 "metadata": {
  "kernelspec": {
   "display_name": "Python 3",
   "language": "python",
   "name": "python3"
  },
  "language_info": {
   "codemirror_mode": {
    "name": "ipython",
    "version": 2
   },
   "file_extension": ".py",
   "mimetype": "text/x-python",
   "name": "python",
   "nbconvert_exporter": "python",
   "pygments_lexer": "ipython2",
   "version": "2.7.6"
  }
 },
 "nbformat": 4,
 "nbformat_minor": 0
}