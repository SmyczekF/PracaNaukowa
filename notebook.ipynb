{
 "cells": [
  {
   "cell_type": "code",
   "execution_count": 1,
   "outputs": [],
   "source": [
    "import csv\n",
    "import math\n",
    "import pandas as pd\n",
    "from itertools import chain, combinations\n",
    "from numpy import linspace"
   ],
   "metadata": {
    "collapsed": false,
    "pycharm": {
     "name": "#%%\n"
    }
   }
  },
  {
   "cell_type": "code",
   "execution_count": 2,
   "metadata": {
    "collapsed": true
   },
   "outputs": [],
   "source": [
    "def euklides_measure(vec1, vec2):\n",
    "    result = 0\n",
    "    if len(vec1) != len(vec2):\n",
    "        return 0\n",
    "    for i in range(len(vec1)):\n",
    "        result = result + (vec1[i]-vec2[i])**2\n",
    "\n",
    "    result = math.sqrt(result)\n",
    "\n",
    "    return result"
   ]
  },
  {
   "cell_type": "code",
   "execution_count": 3,
   "outputs": [],
   "source": [
    "def get_csv(x):\n",
    "\n",
    "    df = pd.read_csv(x)\n",
    "    leng = len(df.columns)\n",
    "    return df, leng\n",
    "\n"
   ],
   "metadata": {
    "collapsed": false,
    "pycharm": {
     "name": "#%%\n"
    }
   }
  },
  {
   "cell_type": "code",
   "execution_count": 4,
   "outputs": [],
   "source": [
    "def compare(test, which_line, agent, a_index, dec_atr):\n",
    "    test = test_file.iloc[which_line]\n",
    "\n",
    "    #zliczac do zmiennej liczbe wartosci atrybutu decyzyjnego -> podawana w zmiennej\n",
    "    vec_of_vecs = []\n",
    "\n",
    "    train_vec = [None] * (a_index - 1)\n",
    "    test_vec = [None] * (a_index - 1)\n",
    "\n",
    "    #tworzenie wektora odległości bezwzględnej\n",
    "    for index, row in agent.iterrows():\n",
    "        sim_vec = [-1 for x in range(len(dec_atr))]\n",
    "\n",
    "        for i in range (len(train_vec)):\n",
    "            train_vec[i] = row[agent.columns[i]]\n",
    "            test_vec[i] = test[agent.columns[i]]\n",
    "\n",
    "        emeasure = euklides_measure(train_vec,test_vec)\n",
    "\n",
    "\n",
    "        for atr in dec_atr:\n",
    "            if row[agent.columns[a_index-1]] == atr:\n",
    "                sim_vec[dec_atr.index(atr)] = emeasure\n",
    "                vec_of_vecs.append(sim_vec)\n",
    "    # print(vec_of_vecs)\n",
    "    return vec_of_vecs\n"
   ],
   "metadata": {
    "collapsed": false,
    "pycharm": {
     "name": "#%%\n"
    }
   }
  },
  {
   "cell_type": "code",
   "execution_count": 5,
   "outputs": [],
   "source": [
    "def find_dec_atr(files):\n",
    "    dec_atr = []\n",
    "    for file in files:\n",
    "        [agent, a_index] = get_csv(file)\n",
    "        for index, row in agent.iterrows():\n",
    "            dec = row[agent.columns[a_index-1]]\n",
    "            if dec not in dec_atr:\n",
    "                dec_atr.append(dec)\n",
    "\n",
    "    return dec_atr"
   ],
   "metadata": {
    "collapsed": false,
    "pycharm": {
     "name": "#%%\n"
    }
   }
  },
  {
   "cell_type": "code",
   "execution_count": 6,
   "outputs": [],
   "source": [
    "def make_vector(files, test_file, which_line, num_of_dec):\n",
    "    all_vecs = []\n",
    "    for file in files:\n",
    "        [agent, a_index] = get_csv(file)\n",
    "        all_vecs.append(compare(test_file, which_line, agent, a_index, num_of_dec))\n",
    "    return all_vecs\n",
    "\n"
   ],
   "metadata": {
    "collapsed": false,
    "pycharm": {
     "name": "#%%\n"
    }
   }
  },
  {
   "cell_type": "code",
   "execution_count": 7,
   "outputs": [],
   "source": [
    "def find_the_closest(k, list_v, dec_atr, agent_num):\n",
    "\n",
    "    final_vec = [[[0 for x in range(len(dec_atr))] for x in range(k)] for x in range(agent_num)]\n",
    "    help_vec = [[[] for x in range(len(dec_atr))]for x in range(agent_num)]\n",
    "\n",
    "    # print(list_v)\n",
    "\n",
    "    for j in range(len(list_v)):\n",
    "        for l in range(len(list_v[j])):\n",
    "            for m in range(len(list_v[j][l])):\n",
    "                if list_v[j][l][m] != -1:\n",
    "                    help_vec[j][m].append(list_v[j][l][m])\n",
    "    # print(help_vec)\n",
    "    for i in range(k):\n",
    "        del_ixs = [[0 for x in range(len(dec_atr))] for x in range(agent_num)]\n",
    "        for agent_n in range(len(help_vec)):\n",
    "            for dec_n in range(len(help_vec[agent_n])):\n",
    "                mini = min(help_vec[agent_n][dec_n])\n",
    "                del_ixs[agent_n][dec_n] = help_vec[agent_n][dec_n].index(mini)\n",
    "                final_vec[agent_n][i][dec_n] = mini\n",
    "\n",
    "        # print('do usu ',del_ixs)\n",
    "        # print('ost ', final_vec)\n",
    "\n",
    "    # deletion:\n",
    "    # sorting the inner list to avoid moving important index down\n",
    "        for i in range(len(del_ixs)):\n",
    "            for j in range(len(del_ixs[i])):\n",
    "                if len(help_vec[i][j]) > 1:\n",
    "                    help_vec[i][j].pop(del_ixs[i][j])\n",
    "\n",
    "    correction_vec = [[0 for x in range(len(dec_atr))]for x in range(agent_num)]\n",
    "\n",
    "    return final_vec, correction_vec"
   ],
   "metadata": {
    "collapsed": false,
    "pycharm": {
     "name": "#%%\n"
    }
   }
  },
  {
   "cell_type": "code",
   "execution_count": 8,
   "outputs": [],
   "source": [
    "def unify_k_vecs_new(vec, agent_num, dec_num, correction):\n",
    "    result_vec = [[0 for x in range(dec_num)] for x in range(agent_num)]\n",
    "    for agent in range(len(vec)):\n",
    "        for k in range(len(vec[agent])):\n",
    "            for dec in range(len(vec[agent][k])):\n",
    "                result_vec[agent][dec] += vec[agent][k][dec]\n",
    "\n",
    "                if k == len(vec[agent])-1 and correction[agent][dec] != 0:\n",
    "                    for additional in range(correction[agent][dec]):\n",
    "                        result_vec[agent][dec] += vec[agent][k][dec]\n",
    "\n",
    "\n",
    "    #dzielenie przez liczbe k\n",
    "    for i in range(len(result_vec)):\n",
    "        for j in range(len(result_vec[i])):\n",
    "            result_vec[i][j] /= (len(vec[i]) + correction[i][j])\n",
    "\n",
    "    return result_vec"
   ],
   "metadata": {
    "collapsed": false,
    "pycharm": {
     "name": "#%%\n"
    }
   }
  },
  {
   "cell_type": "code",
   "execution_count": 9,
   "outputs": [],
   "source": [
    "def change_to_relative_decisions(vec):\n",
    "    for i in range(len(vec[0])):\n",
    "        temp_vec = [0 for x in range(len(vec))]\n",
    "\n",
    "        for j in range(len(temp_vec)):\n",
    "            temp_vec[j] = vec[j][i]\n",
    "\n",
    "        sum = 0\n",
    "        for j in range(len(temp_vec)):\n",
    "            sum += temp_vec[j]\n",
    "\n",
    "        for j in range(len(temp_vec)):\n",
    "            temp_vec[j] /= sum\n",
    "\n",
    "        for j in range(len(temp_vec)):\n",
    "            vec[j][i] = temp_vec[j]\n",
    "\n",
    "    return vec"
   ],
   "metadata": {
    "collapsed": false,
    "pycharm": {
     "name": "#%%\n"
    }
   }
  },
  {
   "cell_type": "code",
   "execution_count": 10,
   "outputs": [],
   "source": [
    "def change_to_relative_agents(vec):\n",
    "\n",
    "    for i in range(len(vec)):\n",
    "        sum = 0\n",
    "        for j in range(len(vec[i])):\n",
    "            sum += vec[i][j]\n",
    "        for j in range(len(vec[i])):\n",
    "            if sum != 0:\n",
    "                vec[i][j] = 1 - vec[i][j]/sum\n",
    "            else:\n",
    "                vec[i][j] = 0\n",
    "        sum = 0\n",
    "        for j in range(len(vec[i])):\n",
    "            sum += vec[i][j]\n",
    "        for j in range(len(vec[i])):\n",
    "            if sum != 0:\n",
    "                vec[i][j] = vec[i][j]/sum\n",
    "            else:\n",
    "                vec[i][j] = 0\n",
    "\n",
    "    return vec\n"
   ],
   "metadata": {
    "collapsed": false,
    "pycharm": {
     "name": "#%%\n"
    }
   }
  },
  {
   "cell_type": "code",
   "execution_count": 11,
   "outputs": [],
   "source": [
    "def powerset(iterable):\n",
    "    \"powerset([1,2,3]) --> () (1,) (2,) (3,) (1,2) (1,3) (2,3) (1,2,3)\"\n",
    "    s = list(iterable)\n",
    "    return chain.from_iterable(combinations(s, r) for r in range(len(s)+1))"
   ],
   "metadata": {
    "collapsed": false,
    "pycharm": {
     "name": "#%%\n"
    }
   }
  },
  {
   "cell_type": "code",
   "execution_count": 12,
   "outputs": [],
   "source": [
    "#q od 0 do 1 - wartosc procentowa, po osiagnieciu ktorej decyzja jest przeglosowana\n",
    "def Shapley_Shubik(vec, q, dec_atr):\n",
    "\n",
    "    q_primary = q\n",
    "    sums = [0 for x in range(len(dec_atr))]\n",
    "    # print(vec)\n",
    "    #na początku szukamy list dla poszczególnych decyzji, zapisujemy ją (listę) jako temp_vec\n",
    "    for i in range(len(dec_atr)):\n",
    "        q = q_primary\n",
    "        #temp_vec jest pomocniczy, aby obliczyc ostateczną siłę agenta: [dec1a1, dec1a2, dec1a3..]\n",
    "        temp_vec = [0 for x in range(len(vec))]\n",
    "\n",
    "        temp_sum = 0\n",
    "        #uzupelnienie wektora\n",
    "        for m in range(len(vec)):\n",
    "            temp_vec[m] = vec[m][i]\n",
    "            temp_sum += temp_vec[m]\n",
    "\n",
    "        q *= temp_sum\n",
    "        # print('dla wektora: ',temp_vec,' q: ',q)\n",
    "        #wyciągamy pierszy element tabeli i później odkładamy go na górę (koniec)\n",
    "        agent_forces = []\n",
    "        for l in range(len(temp_vec)):\n",
    "\n",
    "            x = temp_vec.pop(0)\n",
    "\n",
    "            subsets = list(powerset(temp_vec))\n",
    "            sum_to_Shapley = 0\n",
    "            div = 0\n",
    "\n",
    "            #liczenie wartości sił agentów dla poszczególnych decyzji\n",
    "            for sub in subsets:\n",
    "                if sub:\n",
    "                    sum = 0\n",
    "                    for s in sub:\n",
    "                        sum += s\n",
    "                    if sum >= q:\n",
    "                        pass\n",
    "                    elif sum + x >= q:\n",
    "                        sum_to_Shapley += (math.factorial(len(sub)) * math.factorial((len(temp_vec)+1)-len(sub)-1))\n",
    "\n",
    "                else:\n",
    "                    if x >= q:\n",
    "                        sum_to_Shapley += (math.factorial(len(sub)) * math.factorial((len(temp_vec)+1)-len(sub)-1))\n",
    "\n",
    "            temp_vec.append(x)\n",
    "            agent_forces.append(sum_to_Shapley/math.factorial(len(temp_vec)))\n",
    "        sums[i] = agent_forces\n",
    "\n",
    "            # liczenie sumy wartości sił jako siły agenta\n",
    "    final_indexes = [0 for x in range(len(vec))]\n",
    "    for i in range(len(sums)):\n",
    "        for j in range(len(sums[i])):\n",
    "            final_indexes[j] += sums[i][j]\n",
    "    # print(final_indexes)\n",
    "            # mnozenie wektorow przez siłę\n",
    "    for i in range(len(vec)):\n",
    "        for j in range(len(vec[i])):\n",
    "            vec[i][j] *= final_indexes[i]\n",
    "    # print(vec)\n",
    "            # sumowanie przemnozonych wektorów\n",
    "    final_vec = [0 for x in range(len(dec_atr))]\n",
    "\n",
    "    for i in range(len(dec_atr)):\n",
    "        for j in range(len(vec)):\n",
    "            final_vec[i] += vec[j][i]\n",
    "\n",
    "            #wybieranie decyzji\n",
    "    max_val = max(final_vec)\n",
    "    decision = [dec_atr[i] for i,j in enumerate(final_vec) if j==max_val]\n",
    "    return decision"
   ],
   "metadata": {
    "collapsed": false,
    "pycharm": {
     "name": "#%%\n"
    }
   }
  },
  {
   "cell_type": "code",
   "execution_count": 13,
   "outputs": [],
   "source": [
    "def Banzhaf_Coleman(vec, q, dec_atr):\n",
    "    q_primary = q\n",
    "    agent_forces = []\n",
    "    for i in range(len(dec_atr)):\n",
    "        q = q_primary\n",
    "        # print(vec)\n",
    "        temp_vec = [0 for x in range(len(vec))]\n",
    "\n",
    "        temp_sum = 0\n",
    "        for m in range(len(vec)):\n",
    "            temp_vec[m] = vec[m][i]\n",
    "            temp_sum += temp_vec[m]\n",
    "\n",
    "        q *= temp_sum\n",
    "\n",
    "        subsets = list(powerset(temp_vec))\n",
    "\n",
    "\n",
    "        vic = [0 for x in range(len(vec))]\n",
    "        for sub in subsets:\n",
    "            sum = 0\n",
    "            for j in range(len(sub)):\n",
    "\n",
    "                sum += sub[j]\n",
    "            if sum >= q:\n",
    "                for j in range(len(temp_vec)):\n",
    "                    if temp_vec[j] in sub:\n",
    "                        vic[j] += 1\n",
    "                    else:\n",
    "                        vic[j] -= 1\n",
    "\n",
    "        sum = 0\n",
    "        for j in range(len(vic)):\n",
    "            sum += vic[j]\n",
    "\n",
    "        for j in range(len(vic)):\n",
    "            vic[j] /= sum\n",
    "        agent_forces.append(vic)\n",
    "\n",
    "    final_indexes = [0 for x in range(len(vec))]\n",
    "    for i in range(len(agent_forces)):\n",
    "        for j in range(len(agent_forces[i])):\n",
    "            final_indexes[j] += agent_forces[i][j]\n",
    "\n",
    "\n",
    "    for i in range(len(vec)):\n",
    "        for j in range(len(vec[i])):\n",
    "            vec[i][j] *= final_indexes[i]\n",
    "\n",
    "    final_vec = [0 for x in range(len(dec_atr))]\n",
    "\n",
    "    for i in range(len(dec_atr)):\n",
    "        for j in range(len(vec)):\n",
    "            final_vec[i] += vec[j][i]\n",
    "\n",
    "\n",
    "    #wybieranie decyzji\n",
    "    max_val = max(final_vec)\n",
    "    decision = [dec_atr[i] for i,j in enumerate(final_vec) if j==max_val]\n",
    "    return decision"
   ],
   "metadata": {
    "collapsed": false,
    "pycharm": {
     "name": "#%%\n"
    }
   }
  },
  {
   "cell_type": "code",
   "execution_count": 14,
   "outputs": [
    {
     "name": "stdout",
     "output_type": "stream",
     "text": [
      "skutecznosc:  0.886  q  0.8  k  1\n"
     ]
    },
    {
     "data": {
      "text/plain": "<function TextIOWrapper.close()>"
     },
     "execution_count": 14,
     "metadata": {},
     "output_type": "execute_result"
    }
   ],
   "source": [
    "#gdy program sie ZAKONCZY: na koncu lini wykonan powinno byc <function TextIOWrapper.close()>\n",
    "#tutaj zmiana w files agent3 -> agent7, dodac 'vehicle/agent5/d6.csv' i d7\n",
    "#wrzucic plik vehicle_result.csv do folderu vehicle/agent5\n",
    "#utworzyc plik vehicle_result.csv (prawym na folder .idea -> new -> file)\n",
    "\n",
    "files = ['SatImg/agent9/d1.csv','SatImg/agent9/d2.csv','SatImg/agent9/d3.csv',\n",
    "         'SatImg/agent9/d4.csv','SatImg/agent9/d5.csv','SatImg/agent9/d6.csv',\n",
    "         'SatImg/agent9/d7.csv','SatImg/agent9/d8.csv','SatImg/agent9/d9.csv']\n",
    "\n",
    "test_file, t_index = get_csv('SatImg/test_w.csv')\n",
    "dec_atr = find_dec_atr(files)\n",
    "ageent_num = len(files)\n",
    "\n",
    "#parametry testu\n",
    "header = ['Nazwa algorytmu','Dokładność','q','k','Srednia ilosc decyzji']\n",
    "for i in range(len(dec_atr)):\n",
    "    header.append(dec_atr[i])\n",
    "\n",
    "header = ','.join(map(str,header))\n",
    "f = open('SatImg_results_agent9.csv','a',encoding='UTF8')\n",
    "f.write(header)\n",
    "\n",
    "space = [0.8]\n",
    "\n",
    "shp = [\"\\nShapley_Shubik\",\"\\nBanzhaf_Coleman\"]\n",
    "\n",
    "dec_stat_sum = [0 for x in range(len(dec_atr))]\n",
    "dec_stat = [0 for x in range(len(dec_atr))]\n",
    "\n",
    "k = 1 #9 do zbadania jeszcze\n",
    "sb = 1\n",
    "# for sb in range(2):\n",
    "for q in range(len(space)):\n",
    "    zgadza = 0\n",
    "    length = 0\n",
    "    for i in range(len(test_file)):\n",
    "        # for i in range(1):\n",
    "\n",
    "        line_to_compare = i\n",
    "\n",
    "        list_v = make_vector(files, test_file, line_to_compare, dec_atr)\n",
    "\n",
    "        k_closest, correction = find_the_closest(k, list_v, dec_atr, ageent_num)\n",
    "\n",
    "        # print('cmp: ',test_file.iloc[line_to_compare])\n",
    "        # print('list: ',list_v)\n",
    "\n",
    "        # print(\"k_closest: \", k_closest)\n",
    "        # print(\"correction \", correction)\n",
    "\n",
    "        result = unify_k_vecs_new(k_closest, ageent_num, len(dec_atr), correction)\n",
    "\n",
    "\n",
    "        relative = change_to_relative_agents(result)\n",
    "\n",
    "        # print(relative)\n",
    "        # dec = [1]\n",
    "        # test_list = [[0.5],[0.3],[0.2]]\n",
    "\n",
    "        if sb == 0:\n",
    "            f_list = Shapley_Shubik(relative, space[q], dec_atr)\n",
    "        else:\n",
    "            f_list = Banzhaf_Coleman(relative, space[q], dec_atr)\n",
    "\n",
    "        # print(f_list)\n",
    "\n",
    "        # print(test_file.iloc[line_to_compare][t_index - 1], \" <- poprawna | odgadnieta -> \", f_list)\n",
    "\n",
    "        dec_stat_sum[dec_atr.index(test_file.iloc[line_to_compare][t_index - 1])] += 1\n",
    "\n",
    "        if test_file.iloc[line_to_compare][t_index - 1] in f_list and len(f_list) == 1:\n",
    "            dec_stat[dec_atr.index(test_file.iloc[line_to_compare][t_index - 1])] += 1\n",
    "\n",
    "            zgadza += 1\n",
    "        length += len(f_list)\n",
    "\n",
    "    data = [shp[sb],zgadza/len(test_file),space[q],k,length/len(test_file)]\n",
    "    for i in range(len(dec_stat)):\n",
    "        if dec_stat_sum[i] != 0:\n",
    "            data.append(dec_stat[i]/dec_stat_sum[i])\n",
    "\n",
    "    data = ','.join(map(str,data))\n",
    "    f.flush()\n",
    "    f.write(data)\n",
    "\n",
    "    print('skutecznosc: ',zgadza/len(test_file),' q ',space[q],' k ',k)\n",
    "f.close\n",
    "    # Dla k = 3 i q = 0.6\n",
    "    # Skuteczność: 0.7283464566929134\n",
    "    # Srednia ilosc podejmowanych decyzji:  1.0\n",
    "\n",
    "    #Poprawione:\n",
    "    # Gdy odległość jest równa, bierzemy wszystkie równe wartości (uwzględnione oczywiście również przy jednoczeniu wektoró)\n",
    "    # Podjęte decyzje to lista, w wypadku niejednoznacznej decyzji (wszystkie wartości max wchodzą).\n",
    "    # Naprawiona miara Euklidesowa! Dawniej - gdy 0 to przydzielałem 1e-21, teraz zostaje 0\n",
    "    # Drobne zmiany optymalizacyjne - czas skrócony do 1.8(3) min [z 2,5min]\n",
    "    # Indeks Banzhafa\n",
    "\n",
    "    # Do dodania:\n",
    "\n",
    "    # testowac k 1-9 co 1 \n",
    "    # testowac q 0.3-0.8 co 0.1\n"
   ],
   "metadata": {
    "collapsed": false,
    "pycharm": {
     "name": "#%%\n"
    }
   }
  }
 ],
 "metadata": {
  "kernelspec": {
   "display_name": "Python 3",
   "language": "python",
   "name": "python3"
  },
  "language_info": {
   "codemirror_mode": {
    "name": "ipython",
    "version": 2
   },
   "file_extension": ".py",
   "mimetype": "text/x-python",
   "name": "python",
   "nbconvert_exporter": "python",
   "pygments_lexer": "ipython2",
   "version": "2.7.6"
  }
 },
 "nbformat": 4,
 "nbformat_minor": 0
}