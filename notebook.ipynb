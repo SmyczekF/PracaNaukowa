{
 "cells": [
  {
   "cell_type": "code",
   "execution_count": 256,
   "outputs": [],
   "source": [
    "import math\n",
    "import pandas as pd\n",
    "from itertools import chain, combinations"
   ],
   "metadata": {
    "collapsed": false,
    "pycharm": {
     "name": "#%%\n"
    }
   }
  },
  {
   "cell_type": "code",
   "execution_count": 257,
   "metadata": {
    "collapsed": true
   },
   "outputs": [],
   "source": [
    "def euklides_measure(vec1, vec2):\n",
    "    result = 0\n",
    "    # ewentualnie mozna liczyc odleglosci euklidesowe dla wektorow o roznej odl\n",
    "    if len(vec1) != len(vec2):\n",
    "        return 0\n",
    "    for i in range(len(vec1)):\n",
    "        result = result + (vec1[i]-vec2[i])**2\n",
    "    result = math.sqrt(result)\n",
    "\n",
    "    #korekta, gdy odleglosc to 0, zapisujemy 0 w inny sposób\n",
    "    if result == 0:\n",
    "        result = 1e-21\n",
    "\n",
    "    return result"
   ]
  },
  {
   "cell_type": "code",
   "execution_count": 258,
   "outputs": [],
   "source": [
    "def get_csv(x):\n",
    "\n",
    "    df = pd.read_csv(x)\n",
    "    leng = len(df.columns)\n",
    "    return df, leng"
   ],
   "metadata": {
    "collapsed": false,
    "pycharm": {
     "name": "#%%\n"
    }
   }
  },
  {
   "cell_type": "code",
   "execution_count": 259,
   "outputs": [],
   "source": [
    "def write_to_sim_vec(sim_vec, index, emeasure, vec_of_vecs):\n",
    "    sim_vec[index] = emeasure\n",
    "    vec_of_vecs.append(sim_vec)\n",
    "\n",
    "    return vec_of_vecs\n"
   ],
   "metadata": {
    "collapsed": false,
    "pycharm": {
     "name": "#%%\n"
    }
   }
  },
  {
   "cell_type": "code",
   "execution_count": 260,
   "outputs": [],
   "source": [
    "def compare(test, which_line, agent, a_index, dec_atr):\n",
    "    test = test_file.iloc[which_line]\n",
    "\n",
    "    #zliczac do zmiennej liczbe wartosci atrybutu decyzyjnego -> podawana w zmiennej\n",
    "    vec_of_vecs = []\n",
    "\n",
    "    train_vec = [None] * (a_index - 1)\n",
    "    test_vec = [None] * (a_index - 1)\n",
    "\n",
    "    #tworzenie wektora odległości bezwzględnej\n",
    "    for index, row in agent.iterrows():\n",
    "        sim_vec = [0] * len(dec_atr)\n",
    "\n",
    "        for i in range (len(train_vec)):\n",
    "            train_vec[i] = row[agent.columns[i]]\n",
    "            test_vec[i] = test[agent.columns[i]]\n",
    "\n",
    "        emeasure = euklides_measure(train_vec,test_vec)\n",
    "\n",
    "        #w innej funkcji wybierac wszystkie odpowiadajace dla wybranego k\n",
    "\n",
    "        for atr in dec_atr:\n",
    "\n",
    "            if row[agent.columns[a_index-1]] == atr:\n",
    "                vec_of_vecs = write_to_sim_vec(sim_vec, dec_atr.index(atr), emeasure, vec_of_vecs)\n",
    "\n",
    "\n",
    "    return vec_of_vecs\n"
   ],
   "metadata": {
    "collapsed": false,
    "pycharm": {
     "name": "#%%\n"
    }
   }
  },
  {
   "cell_type": "code",
   "execution_count": 261,
   "outputs": [],
   "source": [
    "def find_dec_atr(files):\n",
    "    dec_atr = []\n",
    "    for file in files:\n",
    "        [agent, a_index] = get_csv(file)\n",
    "        for index, row in agent.iterrows():\n",
    "            dec = row[agent.columns[a_index-1]]\n",
    "            if dec not in dec_atr:\n",
    "                dec_atr.append(dec)\n",
    "\n",
    "    return dec_atr"
   ],
   "metadata": {
    "collapsed": false,
    "pycharm": {
     "name": "#%%\n"
    }
   }
  },
  {
   "cell_type": "code",
   "execution_count": 262,
   "outputs": [],
   "source": [
    "def make_vector(files, test_file, which_line, num_of_dec):\n",
    "    all_vecs = []\n",
    "    for file in files:\n",
    "        [agent, a_index] = get_csv(file)\n",
    "        all_vecs.append(compare(test_file, which_line, agent, a_index, num_of_dec))\n",
    "    return all_vecs\n",
    "\n"
   ],
   "metadata": {
    "collapsed": false,
    "pycharm": {
     "name": "#%%\n"
    }
   }
  },
  {
   "cell_type": "code",
   "execution_count": 263,
   "outputs": [],
   "source": [
    "def find_the_closest(k, list_v, dec_atr, agent_num):\n",
    "\n",
    "    final_vec = [[[0 for x in range(len(dec_atr))] for x in range(k)] for x in range(agent_num)]\n",
    "    ixs_to_delete = [[0 for x in range(len(dec_atr))] for x in range(agent_num)]\n",
    "\n",
    "    save = False\n",
    "\n",
    "    #[[[0,0,0..],[..],[..],..]],[[0,0,0..],[..],[..],..]],[[0,0,0..],[..],[..],..]],..]\n",
    "    for i in range(k):\n",
    "        for j in range(len(list_v)):\n",
    "            for l in range(len(list_v[j])):\n",
    "                for m in range(len(list_v[j][l])):\n",
    "                    if list_v[j][l][m] != 0:\n",
    "                        final_vec, save = try_val(final_vec, j, i, list_v[j][l], m)\n",
    "                        if save:\n",
    "                            ixs_to_delete[j][m] = l\n",
    "    # deletion:\n",
    "    # sorting the inner list to avoid moving important index down\n",
    "\n",
    "        for i in range(len(ixs_to_delete)):\n",
    "            for j in sorted(ixs_to_delete[i], reverse= True):\n",
    "                del list_v[i][j]\n",
    "\n",
    "    # jesli k-ty obiekt ma taka sama odl jak inne obiekty, to wszystkie obiekty sa brane pod uwage\n",
    "    # 0.1, 0.2, 0.2, 0.3 -> dla k = 2 bierzemy 3 pierwsze obiekty, bo mają tą samą wartość\n",
    "\n",
    "    return final_vec"
   ],
   "metadata": {
    "collapsed": false,
    "pycharm": {
     "name": "#%%\n"
    }
   }
  },
  {
   "cell_type": "code",
   "execution_count": 264,
   "outputs": [],
   "source": [
    "def try_val(final_vec, agent_in_final, k_in_final, vec, m):\n",
    "\n",
    "    fin = final_vec[agent_in_final][k_in_final]\n",
    "    save = False\n",
    "\n",
    "    for i in range(len(fin)):\n",
    "\n",
    "        if i == m:\n",
    "            if fin[m] == 0:\n",
    "                fin[m] = vec[m]\n",
    "                save = True\n",
    "\n",
    "            elif fin[m] > vec[m]:\n",
    "                fin[m] = vec[m]\n",
    "                save = True\n",
    "\n",
    "    return final_vec, save\n"
   ],
   "metadata": {
    "collapsed": false,
    "pycharm": {
     "name": "#%%\n"
    }
   }
  },
  {
   "cell_type": "code",
   "execution_count": 265,
   "outputs": [],
   "source": [
    "def change_to_relative(k_closest):\n",
    "    for k in k_closest:\n",
    "        for l in k:\n",
    "            sum = 0\n",
    "            #zliczamy sume\n",
    "            for m in l:\n",
    "                sum += m\n",
    "            #obliczamy wartosci wzgledem sumy i odejmujemy\n",
    "            # od 1 aby nie byly najmniejsze, tylko najwieksze, aby utworzyc podobienstwo\n",
    "            for i in range(len(l)):\n",
    "                l[i] = 1 - l[i]/sum\n",
    "            #podobniestwo wzgledne (udzial procentowy)\n",
    "            sum = 0\n",
    "            for m in l:\n",
    "                sum += m\n",
    "            for i in range(len(l)):\n",
    "                l[i] = l[i]/sum\n",
    "\n",
    "    # to na koncu (normalizacja)\n",
    "\n",
    "    return k_closest"
   ],
   "metadata": {
    "collapsed": false,
    "pycharm": {
     "name": "#%%\n"
    }
   }
  },
  {
   "cell_type": "code",
   "execution_count": 266,
   "outputs": [],
   "source": [
    "def unify_k_vecs(relative_vecs, agent_num):\n",
    "    unified_vec = [[0 for x in range(len(relative_vecs[0][0]))]for x in range(agent_num)]\n",
    "    for i in range(len(relative_vecs)):\n",
    "        for j in range(len(relative_vecs[i])):\n",
    "\n",
    "            for k in range(len(relative_vecs[i][j])):\n",
    "                unified_vec[i][k] += relative_vecs[i][j][k]\n",
    "\n",
    "        for k in range(len(relative_vecs[i][j])):\n",
    "            unified_vec[i][k] /= len(relative_vecs[i])\n",
    "\n",
    "    # tu nie normalizować, tylko raz na końcu\n",
    "\n",
    "    return unified_vec\n"
   ],
   "metadata": {
    "collapsed": false,
    "pycharm": {
     "name": "#%%\n"
    }
   }
  },
  {
   "cell_type": "code",
   "execution_count": 267,
   "outputs": [],
   "source": [
    "def powerset(iterable):\n",
    "    \"powerset([1,2,3]) --> () (1,) (2,) (3,) (1,2) (1,3) (2,3) (1,2,3)\"\n",
    "    s = list(iterable)\n",
    "    return chain.from_iterable(combinations(s, r) for r in range(len(s)+1))"
   ],
   "metadata": {
    "collapsed": false,
    "pycharm": {
     "name": "#%%\n"
    }
   }
  },
  {
   "cell_type": "code",
   "execution_count": 268,
   "outputs": [],
   "source": [
    "#q od 0 do 1 - wartosc procentowa, po osiagnieciu ktorej decyzja jest przelosowana\n",
    "def Shapley_Shubik(vec, q, dec_atr):\n",
    "\n",
    "    force_list = [0 for x in range(len(vec))]\n",
    "    sums = [0 for x in range(len(dec_atr))]\n",
    "    #na początku szukamy list dla poszczególnych decyzji, zapisujemy ją (listę) jako temp_vec\n",
    "    for i in range(len(dec_atr)):\n",
    "\n",
    "        #temp_vec jest pomocniczy, aby obliczyc ostateczną siłę agenta: [dec1a1, dec1a2, dec1a3..]\n",
    "        temp_vec = [0 for x in range(len(vec))]\n",
    "\n",
    "        #uzupelnienie wektora\n",
    "        for m in range(len(vec)):\n",
    "            temp_vec[m] = vec[m][i]\n",
    "\n",
    "        #wyciągamy pierszy element tabeli i później odkładamy go na górę (koniec)\n",
    "        agent_forces = []\n",
    "        for l in range(len(temp_vec)):\n",
    "\n",
    "            # print(i)\n",
    "            # print(len(temp_vec))\n",
    "            # print(temp_vec)\n",
    "\n",
    "            x = temp_vec.pop(0)\n",
    "            forces= []\n",
    "            subsets = list(powerset(temp_vec))\n",
    "            sum_to_Shapley = 0\n",
    "            div = 0\n",
    "\n",
    "            # print(x)\n",
    "            # print(temp_vec)\n",
    "            # print(len(subsets))\n",
    "\n",
    "            #liczenie wartości sił agentów dla poszczególnych decyzji\n",
    "            for sub in subsets:\n",
    "                if sub:\n",
    "                    sum = 0\n",
    "                    for s in sub:\n",
    "                        sum += s\n",
    "                    if sum > q:\n",
    "                        pass\n",
    "                    elif sum + x > q:\n",
    "                        sum_to_Shapley += (math.factorial(len(sub)) * math.factorial((len(temp_vec)+1)-len(sub)-1))\n",
    "\n",
    "                else:\n",
    "                    if x > q:\n",
    "                        sum_to_Shapley += (math.factorial(len(sub)) * math.factorial((len(temp_vec)+1)-len(sub)-1))\n",
    "\n",
    "            temp_vec.append(x)\n",
    "            agent_forces.append(sum_to_Shapley/math.factorial(len(temp_vec)))\n",
    "        sums[i] = agent_forces\n",
    "\n",
    "            #liczenie sumy wartości sił jako siły agenta\n",
    "    final_indexes = [0 for x in range(len(vec))]\n",
    "    for i in range(len(sums)):\n",
    "        for j in range(len(sums[i])):\n",
    "            final_indexes[j] += sums[i][j]\n",
    "\n",
    "            #liczenie sił poparcia dla wszystkich decyzji\n",
    "\n",
    "\n",
    "\n",
    "            #liczenie ostatecznej siły\n",
    "    return force_list\n",
    "\n",
    "    # algorytm poprawić bo musi być po agentach a nie po decyzjach!!!\n"
   ],
   "metadata": {
    "collapsed": false,
    "pycharm": {
     "name": "#%%\n"
    }
   }
  },
  {
   "cell_type": "code",
   "execution_count": 269,
   "outputs": [],
   "source": [
    "def count_final_vec(unified_vec, f_list):\n",
    "\n",
    "    help_vec = [[0 for x in range(len(unified_vec[0]))]for x in range(len(unified_vec))]\n",
    "    final_vec = [0 for x in range(len(unified_vec[0]))]\n",
    "\n",
    "    for i in range(len(unified_vec)):\n",
    "        for j in range(len(unified_vec[i])):\n",
    "            help_vec[i][j] = unified_vec[i][j] * f_list[i][j]\n",
    "\n",
    "    for i in range(len(help_vec)):\n",
    "        for j in range(len(help_vec[i])):\n",
    "            final_vec[j] += help_vec[i][j]\n",
    "\n",
    "    return final_vec"
   ],
   "metadata": {
    "collapsed": false,
    "pycharm": {
     "name": "#%%\n"
    }
   }
  },
  {
   "cell_type": "code",
   "execution_count": 270,
   "outputs": [
    {
     "name": "stdout",
     "output_type": "stream",
     "text": [
      "[[0.14285714285714285, 0.14285714285714285, 0.14285714285714285, 0.20952380952380953, 0.20952380952380953, 0.0761904761904762, 0.0761904761904762], [0.14285714285714285, 0.14285714285714285, 0.14285714285714285, 0.14285714285714285, 0.14285714285714285, 0.14285714285714285, 0.14285714285714285], [0.12380952380952381, 0.12380952380952381, 0.07380952380952381, 0.04047619047619048, 0.04047619047619048, 0.2571428571428571, 0.3404761904761905], [0.14285714285714285, 0.14285714285714285, 0.14285714285714285, 0.14285714285714285, 0.14285714285714285, 0.14285714285714285, 0.14285714285714285]]\n",
      "[0.5523809523809524, 0.5523809523809524, 0.5023809523809524, 0.5357142857142857, 0.5357142857142857, 0.6190476190476191, 0.7023809523809523]\n"
     ]
    }
   ],
   "source": [
    "files = ['d1.csv', 'd2.csv', 'd3.csv', 'd4.csv', 'd5.csv', 'd6.csv', 'd7.csv']\n",
    "test_file, t_index = get_csv('test_w.csv')\n",
    "dec_atr = find_dec_atr(files)\n",
    "ageent_num = len(files)\n",
    "\n",
    "# for i in range(len(test_file)):\n",
    "\n",
    "line_to_compare = 0\n",
    "\n",
    "list_v = make_vector(files, test_file, line_to_compare, dec_atr)\n",
    "\n",
    "k_closest = find_the_closest(3, list_v, dec_atr, ageent_num)\n",
    "\n",
    "# print(\"k_closest: \", k_closest)\n",
    "\n",
    "relative_vecs = change_to_relative(k_closest)\n",
    "\n",
    "# print(\"relative_vecs: \",relative_vecs)\n",
    "\n",
    "unified_vec = unify_k_vecs(relative_vecs, ageent_num)\n",
    "\n",
    "# print(\"unified_vec: \",unified_vec)\n",
    "\n",
    "f_list = Shapley_Shubik(unified_vec, 0.5, dec_atr)\n",
    "\n",
    "# print(\"f_list: \",f_list)\n",
    "\n",
    "# final_vec = count_final_vec(unified_vec,f_list)\n",
    "#\n",
    "# print(\"final_vec: \",final_vec)\n",
    "\n",
    "# print('decyzja agentow: ', dec_atr[final_vec.index(max(final_vec))])\n",
    "# print('decyzja poprawna: ', test_file.iloc[line_to_compare][t_index - 1])\n",
    "# print('Czy dobra decyzja?: ', dec_atr[final_vec.index(max(final_vec))] == test_file.iloc[line_to_compare][t_index - 1], end='\\n\\n')\n",
    "\n",
    "    # 160/94  -> T/F\n",
    "    # do poprawy unifikacja agentów -> nie robić jej\n",
    "    # do dodania składowanie wyników w jakimś słowniku..\n",
    "    # siła ma być wartością a nie wektorem (dodać wartości sił)"
   ],
   "metadata": {
    "collapsed": false,
    "pycharm": {
     "name": "#%%\n"
    }
   }
  }
 ],
 "metadata": {
  "kernelspec": {
   "display_name": "Python 3",
   "language": "python",
   "name": "python3"
  },
  "language_info": {
   "codemirror_mode": {
    "name": "ipython",
    "version": 2
   },
   "file_extension": ".py",
   "mimetype": "text/x-python",
   "name": "python",
   "nbconvert_exporter": "python",
   "pygments_lexer": "ipython2",
   "version": "2.7.6"
  }
 },
 "nbformat": 4,
 "nbformat_minor": 0
}